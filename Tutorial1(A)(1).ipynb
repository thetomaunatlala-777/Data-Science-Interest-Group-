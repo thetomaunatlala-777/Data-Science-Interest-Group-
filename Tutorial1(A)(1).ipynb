{
 "cells": [
  {
   "cell_type": "markdown",
   "id": "42865574-950f-472a-ad0e-893bcc123098",
   "metadata": {},
   "source": [
    "## Data Science Interest Group\n",
    "## Tutorial 1\n"
   ]
  },
  {
   "cell_type": "code",
   "execution_count": 1,
   "id": "30f97acb-5573-4b92-ac46-39417ab4af34",
   "metadata": {},
   "outputs": [],
   "source": [
    "import pandas as pd"
   ]
  },
  {
   "cell_type": "code",
   "execution_count": 3,
   "id": "6f7c192c-4b8e-4c43-be69-bb14b1e760e6",
   "metadata": {},
   "outputs": [],
   "source": [
    "data = pd.read_csv(\"diabetes_dataset.csv\")"
   ]
  },
  {
   "cell_type": "markdown",
   "id": "1c454f44-042d-4fd5-86df-b66ab0e5bd95",
   "metadata": {},
   "source": [
    "1. What are the columns in your dataset?"
   ]
  },
  {
   "cell_type": "code",
   "execution_count": 4,
   "id": "a89939f0-184e-4d79-bfb5-5ebae9d13c15",
   "metadata": {},
   "outputs": [
    {
     "data": {
      "text/plain": [
       "Index(['Age', 'Pregnancies', 'BMI', 'Glucose', 'BloodPressure', 'HbA1c', 'LDL',\n",
       "       'HDL', 'Triglycerides', 'WaistCircumference', 'HipCircumference', 'WHR',\n",
       "       'FamilyHistory', 'DietType', 'Hypertension', 'MedicationUse',\n",
       "       'Outcome'],\n",
       "      dtype='object')"
      ]
     },
     "execution_count": 4,
     "metadata": {},
     "output_type": "execute_result"
    }
   ],
   "source": [
    "data.columns"
   ]
  },
  {
   "cell_type": "markdown",
   "id": "517a0504-df47-4a16-84c2-c4b797c5a48f",
   "metadata": {},
   "source": [
    "2. How many rows and columns does your dataset have?"
   ]
  },
  {
   "cell_type": "code",
   "execution_count": 20,
   "id": "9081a6fe-900a-4209-9db9-cf299731fb32",
   "metadata": {},
   "outputs": [
    {
     "name": "stdout",
     "output_type": "stream",
     "text": [
      "Number of columns: 17\n",
      "Number of rows: 9538\n"
     ]
    }
   ],
   "source": [
    "num_columns=data.shape[1]\n",
    "num_rows=data.shape[0]\n",
    "print(f\"Number of columns: {num_columns}\")\n",
    "print(f\"Number of rows: {num_rows}\")"
   ]
  },
  {
   "cell_type": "markdown",
   "id": "f4b17373-2a04-4ac9-a93e-d953b7b7912d",
   "metadata": {},
   "source": [
    "3. Identify which columns are numerical and which are categorical."
   ]
  },
  {
   "cell_type": "code",
   "execution_count": null,
   "id": "51c892b0-c1b7-4a8b-b8c7-f4ceefc5dbe8",
   "metadata": {},
   "outputs": [],
   "source": [
    "for col in columns:\n",
    "    if col.isnumeric():\n",
    "        count"
   ]
  }
 ],
 "metadata": {
  "kernelspec": {
   "display_name": "Python 3 (ipykernel)",
   "language": "python",
   "name": "python3"
  },
  "language_info": {
   "codemirror_mode": {
    "name": "ipython",
    "version": 3
   },
   "file_extension": ".py",
   "mimetype": "text/x-python",
   "name": "python",
   "nbconvert_exporter": "python",
   "pygments_lexer": "ipython3",
   "version": "3.13.2"
  }
 },
 "nbformat": 4,
 "nbformat_minor": 5
}
